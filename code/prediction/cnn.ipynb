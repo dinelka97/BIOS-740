{
 "cells": [
  {
   "cell_type": "code",
   "execution_count": null,
   "id": "9a39dec4",
   "metadata": {},
   "outputs": [],
   "source": [
    "from sklearn.metrics import classification_report\n",
    "\n",
    "# Simulated predictions and true labels\n",
    "y_true = ['AD', 'MCI', 'CN', 'AD', 'CN', 'MCI']\n",
    "y_pred = ['AD', 'CN', 'CN', 'AD', 'MCI', 'MCI']\n",
    "\n",
    "# Get classification report as a dictionary\n",
    "report = classification_report(y_true, y_pred, output_dict=True)\n",
    "print(\"Full report:\", report)\n",
    "\n",
    "# Extracting overall accuracy\n",
    "accuracy = report['accuracy']['f1-score']\n",
    "print(\"Overall accuracy:\", accuracy)\n",
    "\n",
    "# Extracting macro-average F1-score\n",
    "f1_macro = report['macro avg']['f1-score']\n",
    "print(\"Macro F1-score:\", f1_macro)\n",
    "\n",
    "# Extracting per-class F1-scores\n",
    "f1_ad = report['AD']['f1-score']\n",
    "f1_mci = report['MCI']['f1-score']\n",
    "f1_cn = report['CN']['f1-score']\n",
    "\n",
    "print(\"F1-score for AD:\", f1_ad)\n",
    "print(\"F1-score for MCI:\", f1_mci)\n",
    "print(\"F1-score for CN:\", f1_cn)\n"
   ]
  }
 ],
 "metadata": {
  "kernelspec": {
   "display_name": ".venv",
   "language": "python",
   "name": "python3"
  },
  "language_info": {
   "name": "python",
   "version": "3.11.11"
  }
 },
 "nbformat": 4,
 "nbformat_minor": 5
}
